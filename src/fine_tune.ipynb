{
 "cells": [
  {
   "cell_type": "code",
   "execution_count": 3,
   "metadata": {},
   "outputs": [
    {
     "name": "stdout",
     "output_type": "stream",
     "text": [
      "Defaulting to user installation because normal site-packages is not writeable\n",
      "Collecting flash-attn==2.5.1.post1\n",
      "  Downloading flash_attn-2.5.1.post1.tar.gz (2.5 MB)\n",
      "\u001b[2K     \u001b[90m━━━━━━━━━━━━━━━━━━━━━━━━━━━━━━━━━━━━━━━━\u001b[0m \u001b[32m2.5/2.5 MB\u001b[0m \u001b[31m6.4 MB/s\u001b[0m eta \u001b[36m0:00:00\u001b[0m00:01\u001b[0m00:01\u001b[0m\n",
      "\u001b[?25h  Preparing metadata (setup.py) ... \u001b[?25ldone\n",
      "\u001b[?25hRequirement already satisfied: einops in /home/labicquette/.local/lib/python3.10/site-packages (from flash-attn==2.5.1.post1) (0.7.0)\n",
      "Requirement already satisfied: ninja in /home/labicquette/.local/lib/python3.10/site-packages (from flash-attn==2.5.1.post1) (1.11.1.1)\n",
      "Requirement already satisfied: packaging in /home/labicquette/.local/lib/python3.10/site-packages (from flash-attn==2.5.1.post1) (23.2)\n",
      "Requirement already satisfied: torch in /home/labicquette/.local/lib/python3.10/site-packages (from flash-attn==2.5.1.post1) (2.2.1)\n",
      "Requirement already satisfied: filelock in /home/labicquette/.local/lib/python3.10/site-packages (from torch->flash-attn==2.5.1.post1) (3.13.1)\n",
      "Requirement already satisfied: typing-extensions>=4.8.0 in /home/labicquette/.local/lib/python3.10/site-packages (from torch->flash-attn==2.5.1.post1) (4.8.0)\n",
      "Requirement already satisfied: sympy in /home/labicquette/.local/lib/python3.10/site-packages (from torch->flash-attn==2.5.1.post1) (1.12)\n",
      "Requirement already satisfied: networkx in /home/labicquette/.local/lib/python3.10/site-packages (from torch->flash-attn==2.5.1.post1) (3.1)\n",
      "Requirement already satisfied: jinja2 in /home/labicquette/.local/lib/python3.10/site-packages (from torch->flash-attn==2.5.1.post1) (3.1.2)\n",
      "Requirement already satisfied: fsspec in /home/labicquette/.local/lib/python3.10/site-packages (from torch->flash-attn==2.5.1.post1) (2023.10.0)\n",
      "Requirement already satisfied: nvidia-cuda-nvrtc-cu12==12.1.105 in /home/labicquette/.local/lib/python3.10/site-packages (from torch->flash-attn==2.5.1.post1) (12.1.105)\n",
      "Requirement already satisfied: nvidia-cuda-runtime-cu12==12.1.105 in /home/labicquette/.local/lib/python3.10/site-packages (from torch->flash-attn==2.5.1.post1) (12.1.105)\n",
      "Requirement already satisfied: nvidia-cuda-cupti-cu12==12.1.105 in /home/labicquette/.local/lib/python3.10/site-packages (from torch->flash-attn==2.5.1.post1) (12.1.105)\n",
      "Requirement already satisfied: nvidia-cudnn-cu12==8.9.2.26 in /home/labicquette/.local/lib/python3.10/site-packages (from torch->flash-attn==2.5.1.post1) (8.9.2.26)\n",
      "Requirement already satisfied: nvidia-cublas-cu12==12.1.3.1 in /home/labicquette/.local/lib/python3.10/site-packages (from torch->flash-attn==2.5.1.post1) (12.1.3.1)\n",
      "Requirement already satisfied: nvidia-cufft-cu12==11.0.2.54 in /home/labicquette/.local/lib/python3.10/site-packages (from torch->flash-attn==2.5.1.post1) (11.0.2.54)\n",
      "Requirement already satisfied: nvidia-curand-cu12==10.3.2.106 in /home/labicquette/.local/lib/python3.10/site-packages (from torch->flash-attn==2.5.1.post1) (10.3.2.106)\n",
      "Requirement already satisfied: nvidia-cusolver-cu12==11.4.5.107 in /home/labicquette/.local/lib/python3.10/site-packages (from torch->flash-attn==2.5.1.post1) (11.4.5.107)\n",
      "Requirement already satisfied: nvidia-cusparse-cu12==12.1.0.106 in /home/labicquette/.local/lib/python3.10/site-packages (from torch->flash-attn==2.5.1.post1) (12.1.0.106)\n",
      "Requirement already satisfied: nvidia-nccl-cu12==2.19.3 in /home/labicquette/.local/lib/python3.10/site-packages (from torch->flash-attn==2.5.1.post1) (2.19.3)\n",
      "Requirement already satisfied: nvidia-nvtx-cu12==12.1.105 in /home/labicquette/.local/lib/python3.10/site-packages (from torch->flash-attn==2.5.1.post1) (12.1.105)\n",
      "Requirement already satisfied: triton==2.2.0 in /home/labicquette/.local/lib/python3.10/site-packages (from torch->flash-attn==2.5.1.post1) (2.2.0)\n",
      "Requirement already satisfied: nvidia-nvjitlink-cu12 in /home/labicquette/.local/lib/python3.10/site-packages (from nvidia-cusolver-cu12==11.4.5.107->torch->flash-attn==2.5.1.post1) (12.3.101)\n",
      "Requirement already satisfied: MarkupSafe>=2.0 in /home/labicquette/.local/lib/python3.10/site-packages (from jinja2->torch->flash-attn==2.5.1.post1) (2.1.3)\n",
      "Requirement already satisfied: mpmath>=0.19 in /home/labicquette/.local/lib/python3.10/site-packages (from sympy->torch->flash-attn==2.5.1.post1) (1.3.0)\n",
      "Building wheels for collected packages: flash-attn\n",
      "  Building wheel for flash-attn (setup.py) ... \u001b[?25ldone\n",
      "\u001b[?25h  Created wheel for flash-attn: filename=flash_attn-2.5.1.post1-cp310-cp310-linux_x86_64.whl size=120922902 sha256=b6b639e1f8c96183e7e15faaf697d65e02fa304b34d806ad380ebfe60ff0bbbc\n",
      "  Stored in directory: /home/labicquette/.cache/pip/wheels/52/09/3d/cbb6314243faf0a24c6f776a6aa6566b78c58dff45dc1a77bf\n",
      "Successfully built flash-attn\n",
      "Installing collected packages: flash-attn\n",
      "  Attempting uninstall: flash-attn\n",
      "    Found existing installation: flash-attn 2.5.0\n",
      "    Uninstalling flash-attn-2.5.0:\n",
      "      Successfully uninstalled flash-attn-2.5.0\n",
      "Successfully installed flash-attn-2.5.1.post1\n"
     ]
    }
   ],
   "source": [
    "\n",
    "!pip install flash-attn==2.5.1.post1"
   ]
  },
  {
   "cell_type": "code",
   "execution_count": 31,
   "metadata": {},
   "outputs": [],
   "source": [
    "import pandas as pd\n",
    "\n",
    "train = pd.read_csv(\"../data/train/train.csv\")\n",
    "test = pd.read_csv(\"../data/test/test.csv\")"
   ]
  },
  {
   "cell_type": "code",
   "execution_count": 32,
   "metadata": {},
   "outputs": [],
   "source": [
    "f_train = pd.DataFrame({\"label\":train[\"type\"], \"text\":train[\"titre\"]}) \n",
    "f_test = pd.DataFrame({\"label\":test[\"type\"], \"text\":test[\"titre\"]})"
   ]
  },
  {
   "cell_type": "code",
   "execution_count": 33,
   "metadata": {},
   "outputs": [],
   "source": [
    "f_test[\"label\"].loc[f_test[\"label\"] == 'Plat principal'] = 1\n",
    "f_test[\"label\"].loc[f_test[\"label\"] == 'Entrée'] = 0\n",
    "f_test[\"label\"].loc[f_test[\"label\"] == 'Dessert'] = 2\n",
    "f_train[\"label\"].loc[f_train[\"label\"] == 'Plat principal'] = 1\n",
    "f_train[\"label\"].loc[f_train[\"label\"] == 'Entrée'] = 0\n",
    "f_train[\"label\"].loc[f_train[\"label\"] == 'Dessert'] = 2"
   ]
  },
  {
   "cell_type": "markdown",
   "metadata": {},
   "source": []
  },
  {
   "cell_type": "code",
   "execution_count": 34,
   "metadata": {},
   "outputs": [
    {
     "data": {
      "text/html": [
       "<div>\n",
       "<style scoped>\n",
       "    .dataframe tbody tr th:only-of-type {\n",
       "        vertical-align: middle;\n",
       "    }\n",
       "\n",
       "    .dataframe tbody tr th {\n",
       "        vertical-align: top;\n",
       "    }\n",
       "\n",
       "    .dataframe thead th {\n",
       "        text-align: right;\n",
       "    }\n",
       "</style>\n",
       "<table border=\"1\" class=\"dataframe\">\n",
       "  <thead>\n",
       "    <tr style=\"text-align: right;\">\n",
       "      <th></th>\n",
       "      <th>label</th>\n",
       "      <th>text</th>\n",
       "    </tr>\n",
       "  </thead>\n",
       "  <tbody>\n",
       "    <tr>\n",
       "      <th>0</th>\n",
       "      <td>1</td>\n",
       "      <td>Gratin de brocoli et lardons</td>\n",
       "    </tr>\n",
       "    <tr>\n",
       "      <th>1</th>\n",
       "      <td>0</td>\n",
       "      <td>Langoustines à la crème</td>\n",
       "    </tr>\n",
       "    <tr>\n",
       "      <th>2</th>\n",
       "      <td>1</td>\n",
       "      <td>Filet de dinde aux asperges</td>\n",
       "    </tr>\n",
       "    <tr>\n",
       "      <th>3</th>\n",
       "      <td>2</td>\n",
       "      <td>Gâteau marandais</td>\n",
       "    </tr>\n",
       "    <tr>\n",
       "      <th>4</th>\n",
       "      <td>0</td>\n",
       "      <td>Tarte à l'artichaut</td>\n",
       "    </tr>\n",
       "  </tbody>\n",
       "</table>\n",
       "</div>"
      ],
      "text/plain": [
       "  label                          text\n",
       "0     1  Gratin de brocoli et lardons\n",
       "1     0       Langoustines à la crème\n",
       "2     1   Filet de dinde aux asperges\n",
       "3     2              Gâteau marandais\n",
       "4     0           Tarte à l'artichaut"
      ]
     },
     "execution_count": 34,
     "metadata": {},
     "output_type": "execute_result"
    }
   ],
   "source": [
    "f_test.head()"
   ]
  },
  {
   "cell_type": "code",
   "execution_count": 35,
   "metadata": {},
   "outputs": [],
   "source": [
    "f_train.head()\n",
    "f_train.to_csv(\"../data/distilbert/titres/train.csv\", index=False)\n",
    "f_test.to_csv(\"../data/distilbert/titres/dev.csv\", index=False)"
   ]
  },
  {
   "cell_type": "code",
   "execution_count": null,
   "metadata": {},
   "outputs": [],
   "source": []
  }
 ],
 "metadata": {
  "kernelspec": {
   "display_name": "Python 3",
   "language": "python",
   "name": "python3"
  },
  "language_info": {
   "codemirror_mode": {
    "name": "ipython",
    "version": 3
   },
   "file_extension": ".py",
   "mimetype": "text/x-python",
   "name": "python",
   "nbconvert_exporter": "python",
   "pygments_lexer": "ipython3",
   "version": "3.10.12"
  }
 },
 "nbformat": 4,
 "nbformat_minor": 2
}
