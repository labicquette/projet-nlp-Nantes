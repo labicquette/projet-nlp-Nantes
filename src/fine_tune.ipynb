{
 "cells": [
  {
   "cell_type": "code",
   "execution_count": 6,
   "metadata": {},
   "outputs": [],
   "source": [
    "import pandas as pd\n",
    "\n",
    "train = pd.read_csv(\"../data/train/train.csv\")\n",
    "test = pd.read_csv(\"../data/test.csv\")"
   ]
  },
  {
   "cell_type": "code",
   "execution_count": 7,
   "metadata": {},
   "outputs": [],
   "source": [
    "f_train = pd.DataFrame({\"label\":train[\"type\"], \"text\": \"Titre : \" + train[\"titre\"]+\". Recette : \"+train[\"recette\"] + \"Ingrédients :\" +train[\"ingredients\"]}) \n",
    "f_test = pd.DataFrame({\"label\":test[\"type\"], \"text\":\"Titre : \" + test[\"titre\"]+\". Recette : \"+test[\"recette\"] + \"Ingrédients :\" +test[\"ingredients\"]})"
   ]
  },
  {
   "cell_type": "code",
   "execution_count": 8,
   "metadata": {},
   "outputs": [],
   "source": [
    "f_test[\"label\"].loc[f_test[\"label\"] == 'Plat principal'] = 1\n",
    "f_test[\"label\"].loc[f_test[\"label\"] == 'Entrée'] = 0\n",
    "f_test[\"label\"].loc[f_test[\"label\"] == 'Dessert'] = 2\n",
    "f_train[\"label\"].loc[f_train[\"label\"] == 'Plat principal'] = 1\n",
    "f_train[\"label\"].loc[f_train[\"label\"] == 'Entrée'] = 0\n",
    "f_train[\"label\"].loc[f_train[\"label\"] == 'Dessert'] = 2"
   ]
  },
  {
   "cell_type": "markdown",
   "metadata": {},
   "source": []
  },
  {
   "cell_type": "code",
   "execution_count": 9,
   "metadata": {},
   "outputs": [
    {
     "data": {
      "text/html": [
       "<div>\n",
       "<style scoped>\n",
       "    .dataframe tbody tr th:only-of-type {\n",
       "        vertical-align: middle;\n",
       "    }\n",
       "\n",
       "    .dataframe tbody tr th {\n",
       "        vertical-align: top;\n",
       "    }\n",
       "\n",
       "    .dataframe thead th {\n",
       "        text-align: right;\n",
       "    }\n",
       "</style>\n",
       "<table border=\"1\" class=\"dataframe\">\n",
       "  <thead>\n",
       "    <tr style=\"text-align: right;\">\n",
       "      <th></th>\n",
       "      <th>label</th>\n",
       "      <th>text</th>\n",
       "    </tr>\n",
       "  </thead>\n",
       "  <tbody>\n",
       "    <tr>\n",
       "      <th>0</th>\n",
       "      <td>2</td>\n",
       "      <td>Titre : Roulé à la confiture de lait. Recette ...</td>\n",
       "    </tr>\n",
       "    <tr>\n",
       "      <th>1</th>\n",
       "      <td>2</td>\n",
       "      <td>Titre : Croissants aux amandes. Recette : Croi...</td>\n",
       "    </tr>\n",
       "    <tr>\n",
       "      <th>2</th>\n",
       "      <td>1</td>\n",
       "      <td>Titre : Quinoa Phileas (aux légumes croquants ...</td>\n",
       "    </tr>\n",
       "    <tr>\n",
       "      <th>3</th>\n",
       "      <td>1</td>\n",
       "      <td>Titre : Magret de canard à la crème de mûre. R...</td>\n",
       "    </tr>\n",
       "    <tr>\n",
       "      <th>4</th>\n",
       "      <td>0</td>\n",
       "      <td>Titre : St-Jacques a la sauce aux huitres et a...</td>\n",
       "    </tr>\n",
       "  </tbody>\n",
       "</table>\n",
       "</div>"
      ],
      "text/plain": [
       "  label                                               text\n",
       "0     2  Titre : Roulé à la confiture de lait. Recette ...\n",
       "1     2  Titre : Croissants aux amandes. Recette : Croi...\n",
       "2     1  Titre : Quinoa Phileas (aux légumes croquants ...\n",
       "3     1  Titre : Magret de canard à la crème de mûre. R...\n",
       "4     0  Titre : St-Jacques a la sauce aux huitres et a..."
      ]
     },
     "execution_count": 9,
     "metadata": {},
     "output_type": "execute_result"
    }
   ],
   "source": [
    "f_test.head()"
   ]
  },
  {
   "cell_type": "code",
   "execution_count": 10,
   "metadata": {},
   "outputs": [],
   "source": [
    "f_train.head()\n",
    "f_train.to_csv(\"../data/distilbert/all/train.csv\", index=False)\n",
    "f_test.to_csv(\"../data/distilbert/all/test.csv\", index=False)"
   ]
  },
  {
   "cell_type": "code",
   "execution_count": null,
   "metadata": {},
   "outputs": [],
   "source": []
  }
 ],
 "metadata": {
  "kernelspec": {
   "display_name": "Python 3",
   "language": "python",
   "name": "python3"
  },
  "language_info": {
   "codemirror_mode": {
    "name": "ipython",
    "version": 3
   },
   "file_extension": ".py",
   "mimetype": "text/x-python",
   "name": "python",
   "nbconvert_exporter": "python",
   "pygments_lexer": "ipython3",
   "version": "3.10.12"
  }
 },
 "nbformat": 4,
 "nbformat_minor": 2
}
