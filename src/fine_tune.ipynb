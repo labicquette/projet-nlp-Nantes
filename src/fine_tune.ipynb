{
 "cells": [
  {
   "cell_type": "code",
   "execution_count": 3,
   "metadata": {},
   "outputs": [
    {
     "name": "stdout",
     "output_type": "stream",
     "text": [
      "Defaulting to user installation because normal site-packages is not writeable\n",
      "Collecting flash-attn==2.5.1.post1\n",
      "  Downloading flash_attn-2.5.1.post1.tar.gz (2.5 MB)\n",
      "\u001b[2K     \u001b[90m━━━━━━━━━━━━━━━━━━━━━━━━━━━━━━━━━━━━━━━━\u001b[0m \u001b[32m2.5/2.5 MB\u001b[0m \u001b[31m6.4 MB/s\u001b[0m eta \u001b[36m0:00:00\u001b[0m00:01\u001b[0m00:01\u001b[0m\n",
      "\u001b[?25h  Preparing metadata (setup.py) ... \u001b[?25ldone\n",
      "\u001b[?25hRequirement already satisfied: einops in /home/labicquette/.local/lib/python3.10/site-packages (from flash-attn==2.5.1.post1) (0.7.0)\n",
      "Requirement already satisfied: ninja in /home/labicquette/.local/lib/python3.10/site-packages (from flash-attn==2.5.1.post1) (1.11.1.1)\n",
      "Requirement already satisfied: packaging in /home/labicquette/.local/lib/python3.10/site-packages (from flash-attn==2.5.1.post1) (23.2)\n",
      "Requirement already satisfied: torch in /home/labicquette/.local/lib/python3.10/site-packages (from flash-attn==2.5.1.post1) (2.2.1)\n",
      "Requirement already satisfied: filelock in /home/labicquette/.local/lib/python3.10/site-packages (from torch->flash-attn==2.5.1.post1) (3.13.1)\n",
      "Requirement already satisfied: typing-extensions>=4.8.0 in /home/labicquette/.local/lib/python3.10/site-packages (from torch->flash-attn==2.5.1.post1) (4.8.0)\n",
      "Requirement already satisfied: sympy in /home/labicquette/.local/lib/python3.10/site-packages (from torch->flash-attn==2.5.1.post1) (1.12)\n",
      "Requirement already satisfied: networkx in /home/labicquette/.local/lib/python3.10/site-packages (from torch->flash-attn==2.5.1.post1) (3.1)\n",
      "Requirement already satisfied: jinja2 in /home/labicquette/.local/lib/python3.10/site-packages (from torch->flash-attn==2.5.1.post1) (3.1.2)\n",
      "Requirement already satisfied: fsspec in /home/labicquette/.local/lib/python3.10/site-packages (from torch->flash-attn==2.5.1.post1) (2023.10.0)\n",
      "Requirement already satisfied: nvidia-cuda-nvrtc-cu12==12.1.105 in /home/labicquette/.local/lib/python3.10/site-packages (from torch->flash-attn==2.5.1.post1) (12.1.105)\n",
      "Requirement already satisfied: nvidia-cuda-runtime-cu12==12.1.105 in /home/labicquette/.local/lib/python3.10/site-packages (from torch->flash-attn==2.5.1.post1) (12.1.105)\n",
      "Requirement already satisfied: nvidia-cuda-cupti-cu12==12.1.105 in /home/labicquette/.local/lib/python3.10/site-packages (from torch->flash-attn==2.5.1.post1) (12.1.105)\n",
      "Requirement already satisfied: nvidia-cudnn-cu12==8.9.2.26 in /home/labicquette/.local/lib/python3.10/site-packages (from torch->flash-attn==2.5.1.post1) (8.9.2.26)\n",
      "Requirement already satisfied: nvidia-cublas-cu12==12.1.3.1 in /home/labicquette/.local/lib/python3.10/site-packages (from torch->flash-attn==2.5.1.post1) (12.1.3.1)\n",
      "Requirement already satisfied: nvidia-cufft-cu12==11.0.2.54 in /home/labicquette/.local/lib/python3.10/site-packages (from torch->flash-attn==2.5.1.post1) (11.0.2.54)\n",
      "Requirement already satisfied: nvidia-curand-cu12==10.3.2.106 in /home/labicquette/.local/lib/python3.10/site-packages (from torch->flash-attn==2.5.1.post1) (10.3.2.106)\n",
      "Requirement already satisfied: nvidia-cusolver-cu12==11.4.5.107 in /home/labicquette/.local/lib/python3.10/site-packages (from torch->flash-attn==2.5.1.post1) (11.4.5.107)\n",
      "Requirement already satisfied: nvidia-cusparse-cu12==12.1.0.106 in /home/labicquette/.local/lib/python3.10/site-packages (from torch->flash-attn==2.5.1.post1) (12.1.0.106)\n",
      "Requirement already satisfied: nvidia-nccl-cu12==2.19.3 in /home/labicquette/.local/lib/python3.10/site-packages (from torch->flash-attn==2.5.1.post1) (2.19.3)\n",
      "Requirement already satisfied: nvidia-nvtx-cu12==12.1.105 in /home/labicquette/.local/lib/python3.10/site-packages (from torch->flash-attn==2.5.1.post1) (12.1.105)\n",
      "Requirement already satisfied: triton==2.2.0 in /home/labicquette/.local/lib/python3.10/site-packages (from torch->flash-attn==2.5.1.post1) (2.2.0)\n",
      "Requirement already satisfied: nvidia-nvjitlink-cu12 in /home/labicquette/.local/lib/python3.10/site-packages (from nvidia-cusolver-cu12==11.4.5.107->torch->flash-attn==2.5.1.post1) (12.3.101)\n",
      "Requirement already satisfied: MarkupSafe>=2.0 in /home/labicquette/.local/lib/python3.10/site-packages (from jinja2->torch->flash-attn==2.5.1.post1) (2.1.3)\n",
      "Requirement already satisfied: mpmath>=0.19 in /home/labicquette/.local/lib/python3.10/site-packages (from sympy->torch->flash-attn==2.5.1.post1) (1.3.0)\n",
      "Building wheels for collected packages: flash-attn\n",
      "  Building wheel for flash-attn (setup.py) ... \u001b[?25ldone\n",
      "\u001b[?25h  Created wheel for flash-attn: filename=flash_attn-2.5.1.post1-cp310-cp310-linux_x86_64.whl size=120922902 sha256=b6b639e1f8c96183e7e15faaf697d65e02fa304b34d806ad380ebfe60ff0bbbc\n",
      "  Stored in directory: /home/labicquette/.cache/pip/wheels/52/09/3d/cbb6314243faf0a24c6f776a6aa6566b78c58dff45dc1a77bf\n",
      "Successfully built flash-attn\n",
      "Installing collected packages: flash-attn\n",
      "  Attempting uninstall: flash-attn\n",
      "    Found existing installation: flash-attn 2.5.0\n",
      "    Uninstalling flash-attn-2.5.0:\n",
      "      Successfully uninstalled flash-attn-2.5.0\n",
      "Successfully installed flash-attn-2.5.1.post1\n"
     ]
    }
   ],
   "source": [
    "\n",
    "!pip install flash-attn==2.5.1.post1"
   ]
  },
  {
   "cell_type": "code",
   "execution_count": 47,
   "metadata": {},
   "outputs": [],
   "source": [
    "import pandas as pd\n",
    "\n",
    "train = pd.read_csv(\"../data/train/train.csv\")\n",
    "test = pd.read_csv(\"../data/test/test.csv\")"
   ]
  },
  {
   "cell_type": "code",
   "execution_count": 48,
   "metadata": {},
   "outputs": [],
   "source": [
    "f_train = pd.DataFrame({\"label\":train[\"type\"], \"text\":train[\"recette\"]}) \n",
    "f_test = pd.DataFrame({\"label\":test[\"type\"], \"text\":test[\"recette\"]})"
   ]
  },
  {
   "cell_type": "code",
   "execution_count": 49,
   "metadata": {},
   "outputs": [],
   "source": [
    "f_test[\"label\"].loc[f_test[\"label\"] == 'Plat principal'] = 2\n",
    "f_test[\"label\"].loc[f_test[\"label\"] == 'Entrée'] = 1\n",
    "f_test[\"label\"].loc[f_test[\"label\"] == 'Dessert'] = 3\n",
    "f_train[\"label\"].loc[f_train[\"label\"] == 'Plat principal'] = 2\n",
    "f_train[\"label\"].loc[f_train[\"label\"] == 'Entrée'] = 1\n",
    "f_train[\"label\"].loc[f_train[\"label\"] == 'Dessert'] = 3"
   ]
  },
  {
   "cell_type": "code",
   "execution_count": 50,
   "metadata": {},
   "outputs": [
    {
     "data": {
      "text/html": [
       "<div>\n",
       "<style scoped>\n",
       "    .dataframe tbody tr th:only-of-type {\n",
       "        vertical-align: middle;\n",
       "    }\n",
       "\n",
       "    .dataframe tbody tr th {\n",
       "        vertical-align: top;\n",
       "    }\n",
       "\n",
       "    .dataframe thead th {\n",
       "        text-align: right;\n",
       "    }\n",
       "</style>\n",
       "<table border=\"1\" class=\"dataframe\">\n",
       "  <thead>\n",
       "    <tr style=\"text-align: right;\">\n",
       "      <th></th>\n",
       "      <th>label</th>\n",
       "      <th>text</th>\n",
       "    </tr>\n",
       "  </thead>\n",
       "  <tbody>\n",
       "    <tr>\n",
       "      <th>0</th>\n",
       "      <td>2</td>\n",
       "      <td>Préchauffer le four à 170°C (thermostat 5).Fai...</td>\n",
       "    </tr>\n",
       "    <tr>\n",
       "      <th>1</th>\n",
       "      <td>1</td>\n",
       "      <td>Dans une cocotte, verser l'eau, les oignons et...</td>\n",
       "    </tr>\n",
       "    <tr>\n",
       "      <th>2</th>\n",
       "      <td>2</td>\n",
       "      <td>Couper le filet de dinde en gros morceau (comm...</td>\n",
       "    </tr>\n",
       "    <tr>\n",
       "      <th>3</th>\n",
       "      <td>3</td>\n",
       "      <td>Mélanger le sucre, l'angélique, le beurre fond...</td>\n",
       "    </tr>\n",
       "    <tr>\n",
       "      <th>4</th>\n",
       "      <td>1</td>\n",
       "      <td>Cuire les artichauts dans l'eau bouillante pen...</td>\n",
       "    </tr>\n",
       "  </tbody>\n",
       "</table>\n",
       "</div>"
      ],
      "text/plain": [
       "  label                                               text\n",
       "0     2  Préchauffer le four à 170°C (thermostat 5).Fai...\n",
       "1     1  Dans une cocotte, verser l'eau, les oignons et...\n",
       "2     2  Couper le filet de dinde en gros morceau (comm...\n",
       "3     3  Mélanger le sucre, l'angélique, le beurre fond...\n",
       "4     1  Cuire les artichauts dans l'eau bouillante pen..."
      ]
     },
     "execution_count": 50,
     "metadata": {},
     "output_type": "execute_result"
    }
   ],
   "source": [
    "f_test.head()"
   ]
  },
  {
   "cell_type": "code",
   "execution_count": 51,
   "metadata": {},
   "outputs": [],
   "source": [
    "f_train.head()\n",
    "f_train.to_csv(\"../data/distilbert/train.csv\", index=False)\n",
    "f_test.to_csv(\"../data/distilbert/dev.csv\", index=False)"
   ]
  },
  {
   "cell_type": "code",
   "execution_count": null,
   "metadata": {},
   "outputs": [],
   "source": []
  }
 ],
 "metadata": {
  "kernelspec": {
   "display_name": "Python 3",
   "language": "python",
   "name": "python3"
  },
  "language_info": {
   "codemirror_mode": {
    "name": "ipython",
    "version": 3
   },
   "file_extension": ".py",
   "mimetype": "text/x-python",
   "name": "python",
   "nbconvert_exporter": "python",
   "pygments_lexer": "ipython3",
   "version": "3.10.12"
  }
 },
 "nbformat": 4,
 "nbformat_minor": 2
}
