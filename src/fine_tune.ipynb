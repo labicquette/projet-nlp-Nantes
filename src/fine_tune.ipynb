{
 "cells": [
  {
   "cell_type": "code",
   "execution_count": 47,
   "metadata": {},
   "outputs": [],
   "source": [
    "import pandas as pd\n",
    "\n",
    "train = pd.read_csv(\"../data/train/train.csv\")\n",
    "test = pd.read_csv(\"../data/test/test.csv\")"
   ]
  },
  {
   "cell_type": "code",
   "execution_count": 48,
   "metadata": {},
   "outputs": [],
   "source": [
    "f_train = pd.DataFrame({\"label\":train[\"type\"], \"text\":train[\"recette\"]}) \n",
    "f_test = pd.DataFrame({\"label\":test[\"type\"], \"text\":test[\"recette\"]})"
   ]
  },
  {
   "cell_type": "code",
   "execution_count": 49,
   "metadata": {},
   "outputs": [],
   "source": [
    "f_test[\"label\"].loc[f_test[\"label\"] == 'Plat principal'] = 2\n",
    "f_test[\"label\"].loc[f_test[\"label\"] == 'Entrée'] = 1\n",
    "f_test[\"label\"].loc[f_test[\"label\"] == 'Dessert'] = 3\n",
    "f_train[\"label\"].loc[f_train[\"label\"] == 'Plat principal'] = 2\n",
    "f_train[\"label\"].loc[f_train[\"label\"] == 'Entrée'] = 1\n",
    "f_train[\"label\"].loc[f_train[\"label\"] == 'Dessert'] = 3"
   ]
  },
  {
   "cell_type": "code",
   "execution_count": 50,
   "metadata": {},
   "outputs": [
    {
     "data": {
      "text/html": [
       "<div>\n",
       "<style scoped>\n",
       "    .dataframe tbody tr th:only-of-type {\n",
       "        vertical-align: middle;\n",
       "    }\n",
       "\n",
       "    .dataframe tbody tr th {\n",
       "        vertical-align: top;\n",
       "    }\n",
       "\n",
       "    .dataframe thead th {\n",
       "        text-align: right;\n",
       "    }\n",
       "</style>\n",
       "<table border=\"1\" class=\"dataframe\">\n",
       "  <thead>\n",
       "    <tr style=\"text-align: right;\">\n",
       "      <th></th>\n",
       "      <th>label</th>\n",
       "      <th>text</th>\n",
       "    </tr>\n",
       "  </thead>\n",
       "  <tbody>\n",
       "    <tr>\n",
       "      <th>0</th>\n",
       "      <td>2</td>\n",
       "      <td>Préchauffer le four à 170°C (thermostat 5).Fai...</td>\n",
       "    </tr>\n",
       "    <tr>\n",
       "      <th>1</th>\n",
       "      <td>1</td>\n",
       "      <td>Dans une cocotte, verser l'eau, les oignons et...</td>\n",
       "    </tr>\n",
       "    <tr>\n",
       "      <th>2</th>\n",
       "      <td>2</td>\n",
       "      <td>Couper le filet de dinde en gros morceau (comm...</td>\n",
       "    </tr>\n",
       "    <tr>\n",
       "      <th>3</th>\n",
       "      <td>3</td>\n",
       "      <td>Mélanger le sucre, l'angélique, le beurre fond...</td>\n",
       "    </tr>\n",
       "    <tr>\n",
       "      <th>4</th>\n",
       "      <td>1</td>\n",
       "      <td>Cuire les artichauts dans l'eau bouillante pen...</td>\n",
       "    </tr>\n",
       "  </tbody>\n",
       "</table>\n",
       "</div>"
      ],
      "text/plain": [
       "  label                                               text\n",
       "0     2  Préchauffer le four à 170°C (thermostat 5).Fai...\n",
       "1     1  Dans une cocotte, verser l'eau, les oignons et...\n",
       "2     2  Couper le filet de dinde en gros morceau (comm...\n",
       "3     3  Mélanger le sucre, l'angélique, le beurre fond...\n",
       "4     1  Cuire les artichauts dans l'eau bouillante pen..."
      ]
     },
     "execution_count": 50,
     "metadata": {},
     "output_type": "execute_result"
    }
   ],
   "source": [
    "f_test.head()"
   ]
  },
  {
   "cell_type": "code",
   "execution_count": 51,
   "metadata": {},
   "outputs": [],
   "source": [
    "f_train.head()\n",
    "f_train.to_csv(\"../data/distilbert/train.csv\", index=False)\n",
    "f_test.to_csv(\"../data/distilbert/dev.csv\", index=False)"
   ]
  },
  {
   "cell_type": "code",
   "execution_count": null,
   "metadata": {},
   "outputs": [],
   "source": []
  }
 ],
 "metadata": {
  "kernelspec": {
   "display_name": "Python 3",
   "language": "python",
   "name": "python3"
  },
  "language_info": {
   "codemirror_mode": {
    "name": "ipython",
    "version": 3
   },
   "file_extension": ".py",
   "mimetype": "text/x-python",
   "name": "python",
   "nbconvert_exporter": "python",
   "pygments_lexer": "ipython3",
   "version": "3.10.6"
  }
 },
 "nbformat": 4,
 "nbformat_minor": 2
}
