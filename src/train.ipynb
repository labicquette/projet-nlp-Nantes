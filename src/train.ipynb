{
 "cells": [
  {
   "cell_type": "code",
   "execution_count": 24,
   "metadata": {},
   "outputs": [],
   "source": [
    "import pandas as pd\n",
    "from sklearn.model_selection import train_test_split\n",
    "from nltk.corpus import stopwords\n",
    "from nltk.tokenize import word_tokenize\n",
    "import string\n",
    "from gensim.models import Word2Vec\n",
    "import numpy as np\n",
    "from sklearn.linear_model import LogisticRegression\n",
    "from sklearn.metrics import accuracy_score, precision_score, recall_score, f1_score"
   ]
  },
  {
   "cell_type": "code",
   "execution_count": 25,
   "metadata": {},
   "outputs": [],
   "source": [
    "df_test = pd.read_csv(\"../data/test/test.csv\")\n",
    "df_train = pd.read_csv(\"../data/train/train.csv\")\n",
    "dff = pd.read_csv(\"../data/test.csv\")"
   ]
  },
  {
   "cell_type": "code",
   "execution_count": 26,
   "metadata": {},
   "outputs": [
    {
     "data": {
      "text/html": [
       "<div>\n",
       "<style scoped>\n",
       "    .dataframe tbody tr th:only-of-type {\n",
       "        vertical-align: middle;\n",
       "    }\n",
       "\n",
       "    .dataframe tbody tr th {\n",
       "        vertical-align: top;\n",
       "    }\n",
       "\n",
       "    .dataframe thead th {\n",
       "        text-align: right;\n",
       "    }\n",
       "</style>\n",
       "<table border=\"1\" class=\"dataframe\">\n",
       "  <thead>\n",
       "    <tr style=\"text-align: right;\">\n",
       "      <th></th>\n",
       "      <th>doc_id</th>\n",
       "      <th>titre</th>\n",
       "      <th>type</th>\n",
       "      <th>difficulte</th>\n",
       "      <th>cout</th>\n",
       "      <th>ingredients</th>\n",
       "      <th>recette</th>\n",
       "    </tr>\n",
       "  </thead>\n",
       "  <tbody>\n",
       "    <tr>\n",
       "      <th>0</th>\n",
       "      <td>recette_220079.xml</td>\n",
       "      <td>Gratin de brocoli et lardons</td>\n",
       "      <td>Plat principal</td>\n",
       "      <td>Facile</td>\n",
       "      <td>Bon marché</td>\n",
       "      <td>- 1 brocoli - 100 g de lardons - 3 œufs - 20 c...</td>\n",
       "      <td>Préchauffer le four à 170°C (thermostat 5).Fai...</td>\n",
       "    </tr>\n",
       "    <tr>\n",
       "      <th>1</th>\n",
       "      <td>recette_25691.xml</td>\n",
       "      <td>Langoustines à la crème</td>\n",
       "      <td>Entrée</td>\n",
       "      <td>Facile</td>\n",
       "      <td>Moyen</td>\n",
       "      <td>- 24 langoustines  - 1,5 l d'eau  - 50 cl de c...</td>\n",
       "      <td>Dans une cocotte, verser l'eau, les oignons et...</td>\n",
       "    </tr>\n",
       "    <tr>\n",
       "      <th>2</th>\n",
       "      <td>recette_15272.xml</td>\n",
       "      <td>Filet de dinde aux asperges</td>\n",
       "      <td>Plat principal</td>\n",
       "      <td>Très facile</td>\n",
       "      <td>Bon marché</td>\n",
       "      <td>- 1 gros filet de dinde - 1 bocal de petites a...</td>\n",
       "      <td>Couper le filet de dinde en gros morceau (comm...</td>\n",
       "    </tr>\n",
       "    <tr>\n",
       "      <th>3</th>\n",
       "      <td>recette_55064.xml</td>\n",
       "      <td>Gâteau marandais</td>\n",
       "      <td>Dessert</td>\n",
       "      <td>Très facile</td>\n",
       "      <td>Bon marché</td>\n",
       "      <td>- 250 g de farine - 250 g de sucre - 125 g de ...</td>\n",
       "      <td>Mélanger le sucre, l'angélique, le beurre fond...</td>\n",
       "    </tr>\n",
       "    <tr>\n",
       "      <th>4</th>\n",
       "      <td>recette_63116.xml</td>\n",
       "      <td>Tarte à l'artichaut</td>\n",
       "      <td>Entrée</td>\n",
       "      <td>Facile</td>\n",
       "      <td>Bon marché</td>\n",
       "      <td>- 2 artichauts de taille moyenne - 1 pâte bris...</td>\n",
       "      <td>Cuire les artichauts dans l'eau bouillante pen...</td>\n",
       "    </tr>\n",
       "  </tbody>\n",
       "</table>\n",
       "</div>"
      ],
      "text/plain": [
       "               doc_id                         titre            type  \\\n",
       "0  recette_220079.xml  Gratin de brocoli et lardons  Plat principal   \n",
       "1   recette_25691.xml       Langoustines à la crème          Entrée   \n",
       "2   recette_15272.xml   Filet de dinde aux asperges  Plat principal   \n",
       "3   recette_55064.xml              Gâteau marandais         Dessert   \n",
       "4   recette_63116.xml           Tarte à l'artichaut          Entrée   \n",
       "\n",
       "    difficulte        cout                                        ingredients  \\\n",
       "0       Facile  Bon marché  - 1 brocoli - 100 g de lardons - 3 œufs - 20 c...   \n",
       "1       Facile       Moyen  - 24 langoustines  - 1,5 l d'eau  - 50 cl de c...   \n",
       "2  Très facile  Bon marché  - 1 gros filet de dinde - 1 bocal de petites a...   \n",
       "3  Très facile  Bon marché  - 250 g de farine - 250 g de sucre - 125 g de ...   \n",
       "4       Facile  Bon marché  - 2 artichauts de taille moyenne - 1 pâte bris...   \n",
       "\n",
       "                                             recette  \n",
       "0  Préchauffer le four à 170°C (thermostat 5).Fai...  \n",
       "1  Dans une cocotte, verser l'eau, les oignons et...  \n",
       "2  Couper le filet de dinde en gros morceau (comm...  \n",
       "3  Mélanger le sucre, l'angélique, le beurre fond...  \n",
       "4  Cuire les artichauts dans l'eau bouillante pen...  "
      ]
     },
     "execution_count": 26,
     "metadata": {},
     "output_type": "execute_result"
    }
   ],
   "source": [
    "df_test.head()"
   ]
  },
  {
   "cell_type": "code",
   "execution_count": 27,
   "metadata": {},
   "outputs": [
    {
     "data": {
      "text/html": [
       "<div>\n",
       "<style scoped>\n",
       "    .dataframe tbody tr th:only-of-type {\n",
       "        vertical-align: middle;\n",
       "    }\n",
       "\n",
       "    .dataframe tbody tr th {\n",
       "        vertical-align: top;\n",
       "    }\n",
       "\n",
       "    .dataframe thead th {\n",
       "        text-align: right;\n",
       "    }\n",
       "</style>\n",
       "<table border=\"1\" class=\"dataframe\">\n",
       "  <thead>\n",
       "    <tr style=\"text-align: right;\">\n",
       "      <th></th>\n",
       "      <th>doc_id</th>\n",
       "      <th>titre</th>\n",
       "      <th>type</th>\n",
       "      <th>difficulte</th>\n",
       "      <th>cout</th>\n",
       "      <th>ingredients</th>\n",
       "      <th>recette</th>\n",
       "    </tr>\n",
       "  </thead>\n",
       "  <tbody>\n",
       "    <tr>\n",
       "      <th>0</th>\n",
       "      <td>recette_19924.xml</td>\n",
       "      <td>Bûche de Noël pistachée</td>\n",
       "      <td>Dessert</td>\n",
       "      <td>Moyennement difficile</td>\n",
       "      <td>Moyen</td>\n",
       "      <td>- Pour le biscuit : - 4 œufs + 2 jaunes - 110 ...</td>\n",
       "      <td>Préchauffez le four à (210°C). Étalez du papie...</td>\n",
       "    </tr>\n",
       "    <tr>\n",
       "      <th>1</th>\n",
       "      <td>recette_25149.xml</td>\n",
       "      <td>Tarte aux pommes au fromage blanc</td>\n",
       "      <td>Dessert</td>\n",
       "      <td>Facile</td>\n",
       "      <td>Moyen</td>\n",
       "      <td>- 1 rouleau de pâte feuilletée ou brisée - 3 p...</td>\n",
       "      <td>Pelez et coupez les pommes en quartiers, retir...</td>\n",
       "    </tr>\n",
       "    <tr>\n",
       "      <th>2</th>\n",
       "      <td>recette_40068.xml</td>\n",
       "      <td>Salade de chèvre chaud au miel et pesto</td>\n",
       "      <td>Entrée</td>\n",
       "      <td>Très facile</td>\n",
       "      <td>Bon marché</td>\n",
       "      <td>- 4 chèvres frais - 4 poignées de roquette (ou...</td>\n",
       "      <td>Faire une couronne avec la roquette dans chaqu...</td>\n",
       "    </tr>\n",
       "    <tr>\n",
       "      <th>3</th>\n",
       "      <td>recette_62942.xml</td>\n",
       "      <td>Pommes de terre farcies aux escargots</td>\n",
       "      <td>Entrée</td>\n",
       "      <td>Très facile</td>\n",
       "      <td>Moyen</td>\n",
       "      <td>- 2 très grosses pommes de terre - 4 douzaines...</td>\n",
       "      <td>Faire cuire les pommes de terre à l'eau mais p...</td>\n",
       "    </tr>\n",
       "    <tr>\n",
       "      <th>4</th>\n",
       "      <td>recette_12714.xml</td>\n",
       "      <td>Tarte au fromage et à l'abricot</td>\n",
       "      <td>Dessert</td>\n",
       "      <td>Facile</td>\n",
       "      <td>Bon marché</td>\n",
       "      <td>- Pour la pâte : - 200 g de farine - 1 oeuf - ...</td>\n",
       "      <td>Coupez en petit dés le beurre que vous mélange...</td>\n",
       "    </tr>\n",
       "  </tbody>\n",
       "</table>\n",
       "</div>"
      ],
      "text/plain": [
       "              doc_id                                    titre     type  \\\n",
       "0  recette_19924.xml                  Bûche de Noël pistachée  Dessert   \n",
       "1  recette_25149.xml        Tarte aux pommes au fromage blanc  Dessert   \n",
       "2  recette_40068.xml  Salade de chèvre chaud au miel et pesto   Entrée   \n",
       "3  recette_62942.xml    Pommes de terre farcies aux escargots   Entrée   \n",
       "4  recette_12714.xml          Tarte au fromage et à l'abricot  Dessert   \n",
       "\n",
       "              difficulte        cout  \\\n",
       "0  Moyennement difficile       Moyen   \n",
       "1                 Facile       Moyen   \n",
       "2            Très facile  Bon marché   \n",
       "3            Très facile       Moyen   \n",
       "4                 Facile  Bon marché   \n",
       "\n",
       "                                         ingredients  \\\n",
       "0  - Pour le biscuit : - 4 œufs + 2 jaunes - 110 ...   \n",
       "1  - 1 rouleau de pâte feuilletée ou brisée - 3 p...   \n",
       "2  - 4 chèvres frais - 4 poignées de roquette (ou...   \n",
       "3  - 2 très grosses pommes de terre - 4 douzaines...   \n",
       "4  - Pour la pâte : - 200 g de farine - 1 oeuf - ...   \n",
       "\n",
       "                                             recette  \n",
       "0  Préchauffez le four à (210°C). Étalez du papie...  \n",
       "1  Pelez et coupez les pommes en quartiers, retir...  \n",
       "2  Faire une couronne avec la roquette dans chaqu...  \n",
       "3  Faire cuire les pommes de terre à l'eau mais p...  \n",
       "4  Coupez en petit dés le beurre que vous mélange...  "
      ]
     },
     "execution_count": 27,
     "metadata": {},
     "output_type": "execute_result"
    }
   ],
   "source": [
    "df_train.head()"
   ]
  },
  {
   "cell_type": "code",
   "execution_count": 28,
   "metadata": {},
   "outputs": [],
   "source": [
    "X_train = df_train['recette']\n",
    "X_test = df_test['recette']\n",
    "\n",
    "Y_train = df_train['type']\n",
    "Y_test = df_test['type']\n",
    "\n",
    "dff_X = dff[\"recette\"]\n",
    "dff_Y = dff[\"type\"]"
   ]
  },
  {
   "cell_type": "code",
   "execution_count": 29,
   "metadata": {},
   "outputs": [],
   "source": [
    "stop_words = set(stopwords.words('french'))\n",
    "def preprocess(text):\n",
    "    text = text.lower()\n",
    "    text = ''.join([word for word in text if word not in string.punctuation])\n",
    "    tokens = word_tokenize(text)\n",
    "    tokens = [word for word in tokens if word not in stop_words]\n",
    "    return ' '.join(tokens)"
   ]
  },
  {
   "cell_type": "code",
   "execution_count": 30,
   "metadata": {},
   "outputs": [],
   "source": [
    "X_train = X_train.apply(preprocess)\n",
    "X_test = X_test.apply(preprocess)\n",
    "dff_X = dff_X.apply(preprocess)"
   ]
  },
  {
   "cell_type": "code",
   "execution_count": 31,
   "metadata": {},
   "outputs": [],
   "source": [
    "sentences = [sentence.split() for sentence in X_train]\n",
    "w2v_model = Word2Vec(sentences, workers=4)"
   ]
  },
  {
   "cell_type": "code",
   "execution_count": 32,
   "metadata": {},
   "outputs": [],
   "source": [
    "def vectorize(sentence):\n",
    "    words = sentence.split()\n",
    "    words_vecs = [w2v_model.wv[word] for word in words if word in w2v_model.wv]\n",
    "    if len(words_vecs) == 0:\n",
    "        return np.zeros(100)\n",
    "    words_vecs = np.array(words_vecs)\n",
    "    return words_vecs.mean(axis=0)\n",
    "\n",
    "X_train = np.array([vectorize(sentence) for sentence in X_train])\n",
    "X_test = np.array([vectorize(sentence) for sentence in X_test])\n",
    "dff_X = np.array([vectorize(sentence) for sentence in dff_X])"
   ]
  },
  {
   "cell_type": "code",
   "execution_count": 33,
   "metadata": {},
   "outputs": [
    {
     "data": {
      "text/html": [
       "<style>#sk-container-id-3 {color: black;}#sk-container-id-3 pre{padding: 0;}#sk-container-id-3 div.sk-toggleable {background-color: white;}#sk-container-id-3 label.sk-toggleable__label {cursor: pointer;display: block;width: 100%;margin-bottom: 0;padding: 0.3em;box-sizing: border-box;text-align: center;}#sk-container-id-3 label.sk-toggleable__label-arrow:before {content: \"▸\";float: left;margin-right: 0.25em;color: #696969;}#sk-container-id-3 label.sk-toggleable__label-arrow:hover:before {color: black;}#sk-container-id-3 div.sk-estimator:hover label.sk-toggleable__label-arrow:before {color: black;}#sk-container-id-3 div.sk-toggleable__content {max-height: 0;max-width: 0;overflow: hidden;text-align: left;background-color: #f0f8ff;}#sk-container-id-3 div.sk-toggleable__content pre {margin: 0.2em;color: black;border-radius: 0.25em;background-color: #f0f8ff;}#sk-container-id-3 input.sk-toggleable__control:checked~div.sk-toggleable__content {max-height: 200px;max-width: 100%;overflow: auto;}#sk-container-id-3 input.sk-toggleable__control:checked~label.sk-toggleable__label-arrow:before {content: \"▾\";}#sk-container-id-3 div.sk-estimator input.sk-toggleable__control:checked~label.sk-toggleable__label {background-color: #d4ebff;}#sk-container-id-3 div.sk-label input.sk-toggleable__control:checked~label.sk-toggleable__label {background-color: #d4ebff;}#sk-container-id-3 input.sk-hidden--visually {border: 0;clip: rect(1px 1px 1px 1px);clip: rect(1px, 1px, 1px, 1px);height: 1px;margin: -1px;overflow: hidden;padding: 0;position: absolute;width: 1px;}#sk-container-id-3 div.sk-estimator {font-family: monospace;background-color: #f0f8ff;border: 1px dotted black;border-radius: 0.25em;box-sizing: border-box;margin-bottom: 0.5em;}#sk-container-id-3 div.sk-estimator:hover {background-color: #d4ebff;}#sk-container-id-3 div.sk-parallel-item::after {content: \"\";width: 100%;border-bottom: 1px solid gray;flex-grow: 1;}#sk-container-id-3 div.sk-label:hover label.sk-toggleable__label {background-color: #d4ebff;}#sk-container-id-3 div.sk-serial::before {content: \"\";position: absolute;border-left: 1px solid gray;box-sizing: border-box;top: 0;bottom: 0;left: 50%;z-index: 0;}#sk-container-id-3 div.sk-serial {display: flex;flex-direction: column;align-items: center;background-color: white;padding-right: 0.2em;padding-left: 0.2em;position: relative;}#sk-container-id-3 div.sk-item {position: relative;z-index: 1;}#sk-container-id-3 div.sk-parallel {display: flex;align-items: stretch;justify-content: center;background-color: white;position: relative;}#sk-container-id-3 div.sk-item::before, #sk-container-id-3 div.sk-parallel-item::before {content: \"\";position: absolute;border-left: 1px solid gray;box-sizing: border-box;top: 0;bottom: 0;left: 50%;z-index: -1;}#sk-container-id-3 div.sk-parallel-item {display: flex;flex-direction: column;z-index: 1;position: relative;background-color: white;}#sk-container-id-3 div.sk-parallel-item:first-child::after {align-self: flex-end;width: 50%;}#sk-container-id-3 div.sk-parallel-item:last-child::after {align-self: flex-start;width: 50%;}#sk-container-id-3 div.sk-parallel-item:only-child::after {width: 0;}#sk-container-id-3 div.sk-dashed-wrapped {border: 1px dashed gray;margin: 0 0.4em 0.5em 0.4em;box-sizing: border-box;padding-bottom: 0.4em;background-color: white;}#sk-container-id-3 div.sk-label label {font-family: monospace;font-weight: bold;display: inline-block;line-height: 1.2em;}#sk-container-id-3 div.sk-label-container {text-align: center;}#sk-container-id-3 div.sk-container {/* jupyter's `normalize.less` sets `[hidden] { display: none; }` but bootstrap.min.css set `[hidden] { display: none !important; }` so we also need the `!important` here to be able to override the default hidden behavior on the sphinx rendered scikit-learn.org. See: https://github.com/scikit-learn/scikit-learn/issues/21755 */display: inline-block !important;position: relative;}#sk-container-id-3 div.sk-text-repr-fallback {display: none;}</style><div id=\"sk-container-id-3\" class=\"sk-top-container\"><div class=\"sk-text-repr-fallback\"><pre>LogisticRegression(max_iter=2000)</pre><b>In a Jupyter environment, please rerun this cell to show the HTML representation or trust the notebook. <br />On GitHub, the HTML representation is unable to render, please try loading this page with nbviewer.org.</b></div><div class=\"sk-container\" hidden><div class=\"sk-item\"><div class=\"sk-estimator sk-toggleable\"><input class=\"sk-toggleable__control sk-hidden--visually\" id=\"sk-estimator-id-3\" type=\"checkbox\" checked><label for=\"sk-estimator-id-3\" class=\"sk-toggleable__label sk-toggleable__label-arrow\">LogisticRegression</label><div class=\"sk-toggleable__content\"><pre>LogisticRegression(max_iter=2000)</pre></div></div></div></div></div>"
      ],
      "text/plain": [
       "LogisticRegression(max_iter=2000)"
      ]
     },
     "execution_count": 33,
     "metadata": {},
     "output_type": "execute_result"
    }
   ],
   "source": [
    "clf = LogisticRegression(max_iter=2000)\n",
    "clf.fit(X_train, Y_train)"
   ]
  },
  {
   "cell_type": "code",
   "execution_count": 34,
   "metadata": {},
   "outputs": [
    {
     "name": "stdout",
     "output_type": "stream",
     "text": [
      "Accuracy: 0.8333333333333334\n",
      "Precision: 0.8245731012739453\n",
      "Recall: 0.8002525772193524\n",
      "F1 score: 0.8072703382096069\n",
      "F1 score: 0.8088404971162769\n"
     ]
    }
   ],
   "source": [
    "y_pred = clf.predict(X_test)\n",
    "test_pred = clf.predict(dff_X)\n",
    "print('Accuracy:', accuracy_score(Y_test, y_pred))\n",
    "print('Precision:', precision_score(Y_test, y_pred, average='macro'))\n",
    "print('Recall:', recall_score(Y_test, y_pred, average='macro'))\n",
    "print('F1 score:', f1_score(Y_test, y_pred,  average='macro'))\n",
    "print('F1 score:', f1_score(dff_Y, test_pred,  average='macro'))"
   ]
  },
  {
   "cell_type": "code",
   "execution_count": null,
   "metadata": {},
   "outputs": [],
   "source": []
  },
  {
   "cell_type": "code",
   "execution_count": 35,
   "metadata": {},
   "outputs": [
    {
     "name": "stdout",
     "output_type": "stream",
     "text": [
      "Plat principal\n",
      "[[b'P' b'P' b'P' ... b'P' b'P' b'P']\n",
      " [b'P' b'P' b'P' ... b'P' b'P' b'P']\n",
      " [b'P' b'P' b'P' ... b'P' b'P' b'P']\n",
      " ...\n",
      " [b'P' b'P' b'P' ... b'P' b'P' b'P']\n",
      " [b'P' b'P' b'P' ... b'P' b'P' b'P']\n",
      " [b'P' b'P' b'P' ... b'P' b'P' b'P']]\n"
     ]
    }
   ],
   "source": [
    "values, counts = np.unique(df_train['type'], return_counts=True)\n",
    "maxval = values[np.argmax(counts)]\n",
    "print(maxval)\n",
    "majoritaire = np.ones_like(np.chararray((len(maxval),len(df_train))))\n",
    "majoritaire[:,] = maxval\n",
    "print(majoritaire)"
   ]
  }
 ],
 "metadata": {
  "kernelspec": {
   "display_name": "Python 3",
   "language": "python",
   "name": "python3"
  },
  "language_info": {
   "codemirror_mode": {
    "name": "ipython",
    "version": 3
   },
   "file_extension": ".py",
   "mimetype": "text/x-python",
   "name": "python",
   "nbconvert_exporter": "python",
   "pygments_lexer": "ipython3",
   "version": "3.10.12"
  }
 },
 "nbformat": 4,
 "nbformat_minor": 2
}
