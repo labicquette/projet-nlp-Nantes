{
 "cells": [
  {
   "cell_type": "code",
   "execution_count": 26,
   "metadata": {},
   "outputs": [],
   "source": [
    "import pandas as pd\n",
    "from sklearn.neighbors import KNeighborsClassifier\n",
    "from sklearn.pipeline import Pipeline\n",
    "from sklearn.metrics import classification_report\n",
    "from sklearn.feature_extraction.text import TfidfVectorizer\n",
    "from sklearn.naive_bayes import MultinomialNB\n",
    "from sklearn.ensemble import RandomForestClassifier\n",
    "from sklearn.metrics import confusion_matrix\n",
    "from matplotlib import pyplot as plt\n",
    "import seaborn as sn\n"
   ]
  },
  {
   "cell_type": "code",
   "execution_count": 10,
   "metadata": {},
   "outputs": [],
   "source": [
    "df_test = pd.read_csv(\"../data/test/test.csv\")\n",
    "df_train = pd.read_csv(\"../data/train/train.csv\")\n",
    "dff = pd.read_csv(\"../data/test.csv\")"
   ]
  },
  {
   "cell_type": "code",
   "execution_count": 12,
   "metadata": {},
   "outputs": [
    {
     "data": {
      "text/html": [
       "<div>\n",
       "<style scoped>\n",
       "    .dataframe tbody tr th:only-of-type {\n",
       "        vertical-align: middle;\n",
       "    }\n",
       "\n",
       "    .dataframe tbody tr th {\n",
       "        vertical-align: top;\n",
       "    }\n",
       "\n",
       "    .dataframe thead th {\n",
       "        text-align: right;\n",
       "    }\n",
       "</style>\n",
       "<table border=\"1\" class=\"dataframe\">\n",
       "  <thead>\n",
       "    <tr style=\"text-align: right;\">\n",
       "      <th></th>\n",
       "      <th>doc_id</th>\n",
       "      <th>titre</th>\n",
       "      <th>type</th>\n",
       "      <th>difficulte</th>\n",
       "      <th>cout</th>\n",
       "      <th>ingredients</th>\n",
       "      <th>recette</th>\n",
       "    </tr>\n",
       "  </thead>\n",
       "  <tbody>\n",
       "    <tr>\n",
       "      <th>0</th>\n",
       "      <td>recette_19924.xml</td>\n",
       "      <td>Bûche de Noël pistachée</td>\n",
       "      <td>Dessert</td>\n",
       "      <td>Moyennement difficile</td>\n",
       "      <td>Moyen</td>\n",
       "      <td>- Pour le biscuit : - 4 œufs + 2 jaunes - 110 ...</td>\n",
       "      <td>Préchauffez le four à (210°C). Étalez du papie...</td>\n",
       "    </tr>\n",
       "    <tr>\n",
       "      <th>1</th>\n",
       "      <td>recette_25149.xml</td>\n",
       "      <td>Tarte aux pommes au fromage blanc</td>\n",
       "      <td>Dessert</td>\n",
       "      <td>Facile</td>\n",
       "      <td>Moyen</td>\n",
       "      <td>- 1 rouleau de pâte feuilletée ou brisée - 3 p...</td>\n",
       "      <td>Pelez et coupez les pommes en quartiers, retir...</td>\n",
       "    </tr>\n",
       "    <tr>\n",
       "      <th>2</th>\n",
       "      <td>recette_40068.xml</td>\n",
       "      <td>Salade de chèvre chaud au miel et pesto</td>\n",
       "      <td>Entrée</td>\n",
       "      <td>Très facile</td>\n",
       "      <td>Bon marché</td>\n",
       "      <td>- 4 chèvres frais - 4 poignées de roquette (ou...</td>\n",
       "      <td>Faire une couronne avec la roquette dans chaqu...</td>\n",
       "    </tr>\n",
       "    <tr>\n",
       "      <th>3</th>\n",
       "      <td>recette_62942.xml</td>\n",
       "      <td>Pommes de terre farcies aux escargots</td>\n",
       "      <td>Entrée</td>\n",
       "      <td>Très facile</td>\n",
       "      <td>Moyen</td>\n",
       "      <td>- 2 très grosses pommes de terre - 4 douzaines...</td>\n",
       "      <td>Faire cuire les pommes de terre à l'eau mais p...</td>\n",
       "    </tr>\n",
       "    <tr>\n",
       "      <th>4</th>\n",
       "      <td>recette_12714.xml</td>\n",
       "      <td>Tarte au fromage et à l'abricot</td>\n",
       "      <td>Dessert</td>\n",
       "      <td>Facile</td>\n",
       "      <td>Bon marché</td>\n",
       "      <td>- Pour la pâte : - 200 g de farine - 1 oeuf - ...</td>\n",
       "      <td>Coupez en petit dés le beurre que vous mélange...</td>\n",
       "    </tr>\n",
       "  </tbody>\n",
       "</table>\n",
       "</div>"
      ],
      "text/plain": [
       "              doc_id                                    titre     type  \\\n",
       "0  recette_19924.xml                  Bûche de Noël pistachée  Dessert   \n",
       "1  recette_25149.xml        Tarte aux pommes au fromage blanc  Dessert   \n",
       "2  recette_40068.xml  Salade de chèvre chaud au miel et pesto   Entrée   \n",
       "3  recette_62942.xml    Pommes de terre farcies aux escargots   Entrée   \n",
       "4  recette_12714.xml          Tarte au fromage et à l'abricot  Dessert   \n",
       "\n",
       "              difficulte        cout  \\\n",
       "0  Moyennement difficile       Moyen   \n",
       "1                 Facile       Moyen   \n",
       "2            Très facile  Bon marché   \n",
       "3            Très facile       Moyen   \n",
       "4                 Facile  Bon marché   \n",
       "\n",
       "                                         ingredients  \\\n",
       "0  - Pour le biscuit : - 4 œufs + 2 jaunes - 110 ...   \n",
       "1  - 1 rouleau de pâte feuilletée ou brisée - 3 p...   \n",
       "2  - 4 chèvres frais - 4 poignées de roquette (ou...   \n",
       "3  - 2 très grosses pommes de terre - 4 douzaines...   \n",
       "4  - Pour la pâte : - 200 g de farine - 1 oeuf - ...   \n",
       "\n",
       "                                             recette  \n",
       "0  Préchauffez le four à (210°C). Étalez du papie...  \n",
       "1  Pelez et coupez les pommes en quartiers, retir...  \n",
       "2  Faire une couronne avec la roquette dans chaqu...  \n",
       "3  Faire cuire les pommes de terre à l'eau mais p...  \n",
       "4  Coupez en petit dés le beurre que vous mélange...  "
      ]
     },
     "execution_count": 12,
     "metadata": {},
     "output_type": "execute_result"
    }
   ],
   "source": [
    "df_train.head()"
   ]
  },
  {
   "cell_type": "code",
   "execution_count": 17,
   "metadata": {},
   "outputs": [],
   "source": [
    "X_train = df_train['recette']\n",
    "X_test = df_test['recette']\n",
    "\n",
    "Y_train = df_train['type']\n",
    "Y_test = df_test['type']\n",
    "\n",
    "dff_X = dff[\"recette\"]\n",
    "dff_Y = dff[\"type\"]"
   ]
  },
  {
   "cell_type": "code",
   "execution_count": 20,
   "metadata": {},
   "outputs": [
    {
     "name": "stdout",
     "output_type": "stream",
     "text": [
      "                precision    recall  f1-score   support\n",
      "\n",
      "       Dessert       0.89      0.96      0.92       753\n",
      "        Entrée       0.67      0.47      0.55       582\n",
      "Plat principal       0.78      0.86      0.82      1161\n",
      "\n",
      "      accuracy                           0.80      2496\n",
      "     macro avg       0.78      0.76      0.76      2496\n",
      "  weighted avg       0.79      0.80      0.79      2496\n",
      "\n"
     ]
    }
   ],
   "source": [
    "#1. create a pipeline object\n",
    "clf = Pipeline([\n",
    "     ('vectorizer_tfidf',TfidfVectorizer()),    \n",
    "     ('KNN', KNeighborsClassifier())         \n",
    "])\n",
    "\n",
    "#2. fit with X_train and y_train\n",
    "clf.fit(X_train, Y_train)\n",
    "\n",
    "\n",
    "#3. get the predictions for X_test and store it in y_pred\n",
    "Y_pred = clf.predict(X_test)\n",
    "\n",
    "\n",
    "#4. print the classfication report\n",
    "print(classification_report(Y_test, Y_pred))\n"
   ]
  },
  {
   "cell_type": "code",
   "execution_count": 23,
   "metadata": {},
   "outputs": [
    {
     "name": "stdout",
     "output_type": "stream",
     "text": [
      "                precision    recall  f1-score   support\n",
      "\n",
      "       Dessert       0.97      0.95      0.96       753\n",
      "        Entrée       0.94      0.06      0.11       582\n",
      "Plat principal       0.67      1.00      0.80      1161\n",
      "\n",
      "      accuracy                           0.76      2496\n",
      "     macro avg       0.86      0.67      0.63      2496\n",
      "  weighted avg       0.83      0.76      0.69      2496\n",
      "\n"
     ]
    }
   ],
   "source": [
    "#1. create a pipeline object\n",
    "clf = Pipeline([\n",
    "     ('vectorizer_tfidf',TfidfVectorizer()),    \n",
    "     ('Multi NB', MultinomialNB())         \n",
    "])\n",
    "\n",
    "#2. fit with X_train and y_train\n",
    "clf.fit(X_train, Y_train)\n",
    "\n",
    "\n",
    "#3. get the predictions for X_test and store it in y_pred\n",
    "Y_pred = clf.predict(X_test)\n",
    "\n",
    "\n",
    "#4. print the classfication report\n",
    "print(classification_report(Y_test, Y_pred))"
   ]
  },
  {
   "cell_type": "code",
   "execution_count": 24,
   "metadata": {},
   "outputs": [
    {
     "name": "stdout",
     "output_type": "stream",
     "text": [
      "                precision    recall  f1-score   support\n",
      "\n",
      "       Dessert       0.96      0.98      0.97       753\n",
      "        Entrée       0.83      0.31      0.45       582\n",
      "Plat principal       0.74      0.96      0.83      1161\n",
      "\n",
      "      accuracy                           0.81      2496\n",
      "     macro avg       0.84      0.75      0.75      2496\n",
      "  weighted avg       0.83      0.81      0.79      2496\n",
      "\n"
     ]
    }
   ],
   "source": [
    "#1. create a pipeline object\n",
    "clf = Pipeline([\n",
    "     ('vectorizer_tfidf',TfidfVectorizer()),        #using the ngram_range parameter \n",
    "     ('Random Forest', RandomForestClassifier())         \n",
    "])\n",
    "\n",
    "#2. fit with X_train and y_train\n",
    "clf.fit(X_train, Y_train)\n",
    "\n",
    "\n",
    "#3. get the predictions for X_test and store it in y_pred\n",
    "Y_pred = clf.predict(X_test)\n",
    "\n",
    "\n",
    "#4. print the classfication report\n",
    "print(classification_report(Y_test, Y_pred))"
   ]
  },
  {
   "cell_type": "code",
   "execution_count": 28,
   "metadata": {},
   "outputs": [
    {
     "data": {
      "text/plain": [
       "array([[ 741,    5,    7],\n",
       "       [  13,  181,  388],\n",
       "       [  18,   31, 1112]], dtype=int64)"
      ]
     },
     "execution_count": 28,
     "metadata": {},
     "output_type": "execute_result"
    }
   ],
   "source": [
    "cm = confusion_matrix(Y_test, Y_pred)\n",
    "cm"
   ]
  },
  {
   "cell_type": "code",
   "execution_count": 29,
   "metadata": {},
   "outputs": [
    {
     "data": {
      "text/plain": [
       "Text(95.72222222222221, 0.5, 'Vérité')"
      ]
     },
     "execution_count": 29,
     "metadata": {},
     "output_type": "execute_result"
    },
    {
     "data": {
      "image/png": "[encoded data removed]",
      "text/plain": [
       "<Figure size 1000x700 with 2 Axes>"
      ]
     },
     "metadata": {},
     "output_type": "display_data"
    }
   ],
   "source": [
    "plt.figure(figsize = (10,7))\n",
    "sn.heatmap(cm, annot=True, fmt='d')\n",
    "plt.xlabel('Prediction')\n",
    "plt.ylabel('Vérité')"
   ]
  }
 ],
 "metadata": {
  "kernelspec": {
   "display_name": "base",
   "language": "python",
   "name": "python3"
  },
  "language_info": {
   "codemirror_mode": {
    "name": "ipython",
    "version": 3
   },
   "file_extension": ".py",
   "mimetype": "text/x-python",
   "name": "python",
   "nbconvert_exporter": "python",
   "pygments_lexer": "ipython3",
   "version": "3.11.5"
  }
 },
 "nbformat": 4,
 "nbformat_minor": 2
}
