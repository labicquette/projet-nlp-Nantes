{
 "cells": [
  {
   "cell_type": "code",
   "execution_count": 13,
   "metadata": {},
   "outputs": [],
   "source": [
    "import pandas as pd\n",
    "from glob import glob\n",
    "import copy\n",
    "import numpy as np"
   ]
  },
  {
   "cell_type": "code",
   "execution_count": 14,
   "metadata": {},
   "outputs": [],
   "source": [
    "df = pd.read_csv(\"../data/train.csv\")"
   ]
  },
  {
   "cell_type": "code",
   "execution_count": 15,
   "metadata": {},
   "outputs": [
    {
     "data": {
      "text/html": [
       "<div>\n",
       "<style scoped>\n",
       "    .dataframe tbody tr th:only-of-type {\n",
       "        vertical-align: middle;\n",
       "    }\n",
       "\n",
       "    .dataframe tbody tr th {\n",
       "        vertical-align: top;\n",
       "    }\n",
       "\n",
       "    .dataframe thead th {\n",
       "        text-align: right;\n",
       "    }\n",
       "</style>\n",
       "<table border=\"1\" class=\"dataframe\">\n",
       "  <thead>\n",
       "    <tr style=\"text-align: right;\">\n",
       "      <th></th>\n",
       "      <th>doc_id</th>\n",
       "      <th>titre</th>\n",
       "      <th>type</th>\n",
       "      <th>difficulte</th>\n",
       "      <th>cout</th>\n",
       "      <th>ingredients</th>\n",
       "      <th>recette</th>\n",
       "    </tr>\n",
       "  </thead>\n",
       "  <tbody>\n",
       "    <tr>\n",
       "      <th>0</th>\n",
       "      <td>recette_221358.xml</td>\n",
       "      <td>Feuilleté de saumon et de poireau, sauce aux c...</td>\n",
       "      <td>Plat principal</td>\n",
       "      <td>Facile</td>\n",
       "      <td>Moyen</td>\n",
       "      <td>- 1 gros pavé de saumon - 100 g de crevettes d...</td>\n",
       "      <td>Couper finement le blanc et un peu de vert des...</td>\n",
       "    </tr>\n",
       "    <tr>\n",
       "      <th>1</th>\n",
       "      <td>recette_48656.xml</td>\n",
       "      <td>Cake poulet/moutarde/amandes</td>\n",
       "      <td>Entrée</td>\n",
       "      <td>Très facile</td>\n",
       "      <td>Bon marché</td>\n",
       "      <td>- 3 œufs - 150 g de farine - 1 sachet de levur...</td>\n",
       "      <td>Couper finement l'échalote, la faire revenir à...</td>\n",
       "    </tr>\n",
       "    <tr>\n",
       "      <th>2</th>\n",
       "      <td>recette_30049.xml</td>\n",
       "      <td>Bûche à la truite fumée (7ème rencontre)</td>\n",
       "      <td>Entrée</td>\n",
       "      <td>Moyennement difficile</td>\n",
       "      <td>Assez Cher</td>\n",
       "      <td>- 800 g de filet de truite saumonnée fumée en ...</td>\n",
       "      <td>Faites blanchir les épinards à l'eau bouillant...</td>\n",
       "    </tr>\n",
       "    <tr>\n",
       "      <th>3</th>\n",
       "      <td>recette_71424.xml</td>\n",
       "      <td>Gâteau au yaourt au coco sans huile de laetitia</td>\n",
       "      <td>Dessert</td>\n",
       "      <td>Très facile</td>\n",
       "      <td>Bon marché</td>\n",
       "      <td>- 1 pot de yaourt - 1 pot de lait de coco - 3 ...</td>\n",
       "      <td>Mélanger dans l'ordre tous les ingrédients en ...</td>\n",
       "    </tr>\n",
       "    <tr>\n",
       "      <th>4</th>\n",
       "      <td>recette_217204.xml</td>\n",
       "      <td>Crêpes au canard laqué</td>\n",
       "      <td>Entrée</td>\n",
       "      <td>Moyennement difficile</td>\n",
       "      <td>Moyen</td>\n",
       "      <td>- 90 g de farine - 45 g de maïzena - 2 œufs - ...</td>\n",
       "      <td>Fouetter les œufs avec l'eau, le lait et le su...</td>\n",
       "    </tr>\n",
       "  </tbody>\n",
       "</table>\n",
       "</div>"
      ],
      "text/plain": [
       "               doc_id                                              titre  \\\n",
       "0  recette_221358.xml  Feuilleté de saumon et de poireau, sauce aux c...   \n",
       "1   recette_48656.xml                       Cake poulet/moutarde/amandes   \n",
       "2   recette_30049.xml           Bûche à la truite fumée (7ème rencontre)   \n",
       "3   recette_71424.xml    Gâteau au yaourt au coco sans huile de laetitia   \n",
       "4  recette_217204.xml                             Crêpes au canard laqué   \n",
       "\n",
       "             type             difficulte        cout  \\\n",
       "0  Plat principal                 Facile       Moyen   \n",
       "1          Entrée            Très facile  Bon marché   \n",
       "2          Entrée  Moyennement difficile  Assez Cher   \n",
       "3         Dessert            Très facile  Bon marché   \n",
       "4          Entrée  Moyennement difficile       Moyen   \n",
       "\n",
       "                                         ingredients  \\\n",
       "0  - 1 gros pavé de saumon - 100 g de crevettes d...   \n",
       "1  - 3 œufs - 150 g de farine - 1 sachet de levur...   \n",
       "2  - 800 g de filet de truite saumonnée fumée en ...   \n",
       "3  - 1 pot de yaourt - 1 pot de lait de coco - 3 ...   \n",
       "4  - 90 g de farine - 45 g de maïzena - 2 œufs - ...   \n",
       "\n",
       "                                             recette  \n",
       "0  Couper finement le blanc et un peu de vert des...  \n",
       "1  Couper finement l'échalote, la faire revenir à...  \n",
       "2  Faites blanchir les épinards à l'eau bouillant...  \n",
       "3  Mélanger dans l'ordre tous les ingrédients en ...  \n",
       "4  Fouetter les œufs avec l'eau, le lait et le su...  "
      ]
     },
     "execution_count": 15,
     "metadata": {},
     "output_type": "execute_result"
    }
   ],
   "source": [
    "df.head()"
   ]
  },
  {
   "cell_type": "code",
   "execution_count": 16,
   "metadata": {},
   "outputs": [],
   "source": [
    "df_entree = df.loc[df['type'] == \"Entrée\"]\n",
    "df_pp = df.loc[df['type'] == \"Plat principal\"]\n",
    "df_dessert = df.loc[df['type'] == \"Dessert\"]\n",
    "\n",
    "rand_entree = copy.deepcopy(df_entree.index.values)\n",
    "rand_pp = copy.deepcopy(df_pp.index.values)\n",
    "rand_dessert = copy.deepcopy(df_dessert.index.values)\n",
    "\n",
    "np.random.shuffle(rand_entree)\n",
    "np.random.shuffle(rand_pp)\n",
    "np.random.shuffle(rand_dessert)"
   ]
  },
  {
   "cell_type": "code",
   "execution_count": 17,
   "metadata": {},
   "outputs": [
    {
     "name": "stdout",
     "output_type": "stream",
     "text": [
      "[ 7820 10138  5909 ...  6500  6481  4916]\n",
      "[ 9533  2875 10893 ...  4245   330   977]\n",
      "[ 4663 11076  8138 ...  6745 10804 11590]\n"
     ]
    }
   ],
   "source": [
    "print(rand_entree)\n",
    "print(rand_pp)\n",
    "print(rand_dessert)"
   ]
  },
  {
   "cell_type": "code",
   "execution_count": 18,
   "metadata": {},
   "outputs": [
    {
     "name": "stdout",
     "output_type": "stream",
     "text": [
      "2909\n",
      "5802\n",
      "3762\n"
     ]
    }
   ],
   "source": [
    "print(len(rand_entree))\n",
    "print(len(rand_pp))\n",
    "print(len(rand_dessert))"
   ]
  },
  {
   "cell_type": "code",
   "execution_count": 19,
   "metadata": {},
   "outputs": [],
   "source": [
    "idx_entree = int(len(rand_entree) * 0.8)\n",
    "idx_pp = int(len(rand_pp) * 0.8)\n",
    "idx_dessert = int(len(rand_dessert) * 0.8)"
   ]
  },
  {
   "cell_type": "code",
   "execution_count": 20,
   "metadata": {},
   "outputs": [],
   "source": [
    "df_entree_train = df_entree.loc[rand_entree[:idx_entree]]\n",
    "df_pp_train = df_pp.loc[rand_pp[:idx_pp]]\n",
    "df_dessert_train = df_dessert.loc[rand_dessert[:idx_dessert]]\n",
    "\n",
    "df_entree_test = df_entree.loc[rand_entree[idx_entree:]]\n",
    "df_pp_test = df_pp.loc[rand_pp[idx_pp:]]\n",
    "df_dessert_test = df_dessert.loc[rand_dessert[idx_dessert:]]"
   ]
  },
  {
   "cell_type": "code",
   "execution_count": 21,
   "metadata": {},
   "outputs": [],
   "source": [
    "df_train = pd.concat([df_entree_train, df_pp_train, df_dessert_train])\n",
    "df_test = pd.concat([df_entree_test, df_pp_test, df_dessert_test])"
   ]
  },
  {
   "cell_type": "code",
   "execution_count": 22,
   "metadata": {},
   "outputs": [],
   "source": [
    "np.random.shuffle(rand_entree)\n",
    "idx_train = copy.deepcopy(df_train.index.values)\n",
    "idx_test = copy.deepcopy(df_test.index.values)\n",
    "np.random.shuffle(idx_train)\n",
    "np.random.shuffle(idx_test)\n",
    "df_train = df_train.loc[idx_train]\n",
    "df_test = df_test.loc[idx_test]"
   ]
  },
  {
   "cell_type": "code",
   "execution_count": 23,
   "metadata": {},
   "outputs": [],
   "source": [
    "df_entree_test.to_csv(\"../data/test/data_entree.csv\", index=False)\n",
    "df_pp_test.to_csv(\"../data/test/data_pp.csv\", index=False)\n",
    "df_dessert_test.to_csv(\"../data/test/data_dessert.csv\", index=False)\n",
    "df_test.to_csv(\"../data/test/test.csv\", index=False)\n",
    "\n",
    "df_entree_train.to_csv(\"../data/train/data_entree.csv\", index=False)\n",
    "df_pp_train.to_csv(\"../data/train/data_pp.csv\", index=False)\n",
    "df_train.to_csv(\"../data/train/train.csv\", index=False)"
   ]
  }
 ],
 "metadata": {
  "kernelspec": {
   "display_name": "Python 3",
   "language": "python",
   "name": "python3"
  },
  "language_info": {
   "codemirror_mode": {
    "name": "ipython",
    "version": 3
   },
   "file_extension": ".py",
   "mimetype": "text/x-python",
   "name": "python",
   "nbconvert_exporter": "python",
   "pygments_lexer": "ipython3",
   "version": "3.10.12"
  }
 },
 "nbformat": 4,
 "nbformat_minor": 2
}
